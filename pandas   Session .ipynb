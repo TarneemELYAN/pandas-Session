{
 "cells": [
  {
   "cell_type": "markdown",
   "id": "17411d7c",
   "metadata": {},
   "source": [
    " # Pandas Sessions :\n",
    "  # Applied  Session "
   ]
  },
  {
   "cell_type": "markdown",
   "id": "dc3e9c08",
   "metadata": {},
   "source": [
    "# How to install pandas : "
   ]
  },
  {
   "cell_type": "code",
   "execution_count": 1,
   "id": "ae8cd2dc",
   "metadata": {},
   "outputs": [
    {
     "name": "stdout",
     "output_type": "stream",
     "text": [
      "Requirement already satisfied: pandas in c:\\users\\m.s.i\\anaconda3\\lib\\site-packages (1.5.3)\n",
      "Requirement already satisfied: python-dateutil>=2.8.1 in c:\\users\\m.s.i\\anaconda3\\lib\\site-packages (from pandas) (2.8.2)\n",
      "Requirement already satisfied: pytz>=2020.1 in c:\\users\\m.s.i\\anaconda3\\lib\\site-packages (from pandas) (2022.7)\n",
      "Requirement already satisfied: numpy>=1.21.0 in c:\\users\\m.s.i\\anaconda3\\lib\\site-packages (from pandas) (1.24.3)\n",
      "Requirement already satisfied: six>=1.5 in c:\\users\\m.s.i\\anaconda3\\lib\\site-packages (from python-dateutil>=2.8.1->pandas) (1.16.0)\n"
     ]
    }
   ],
   "source": [
    "! pip install pandas"
   ]
  },
  {
   "cell_type": "markdown",
   "id": "a48bb7e6",
   "metadata": {},
   "source": [
    "# import pandas "
   ]
  },
  {
   "cell_type": "code",
   "execution_count": 2,
   "id": "175317f0",
   "metadata": {},
   "outputs": [],
   "source": [
    "import pandas as pd"
   ]
  },
  {
   "cell_type": "markdown",
   "id": "da1bf3db",
   "metadata": {},
   "source": [
    "# How to load the data in the Jupyter notebook :"
   ]
  },
  {
   "cell_type": "markdown",
   "id": "22405aad",
   "metadata": {},
   "source": [
    "## 1- CSV Files:\n",
    "###  To load data from a CSV file using pandas:\n",
    "\n",
    "\n",
    "data = pd.read_csv('data.csv')\n"
   ]
  },
  {
   "cell_type": "markdown",
   "id": "49483466",
   "metadata": {},
   "source": [
    "## 2-   Excel Files:\n",
    "### To load data from an Excel file (.xlsx format) using pandas:\n",
    "\n",
    "\n",
    "data = pd.read_excel('data.xlsx', sheet_name='Sheet1')"
   ]
  },
  {
   "cell_type": "markdown",
   "id": "e43756e8",
   "metadata": {},
   "source": [
    "## 3- JSON Files:\n",
    "### To load data from a JSON file using pandas:\n",
    "\n",
    "\n",
    "data = pd.read_json('data.json')\n"
   ]
  },
  {
   "cell_type": "markdown",
   "id": "e419a185",
   "metadata": {},
   "source": [
    "## SQL Databases:\n",
    "### To load data from an SQL database using pandas:\n",
    "\n",
    "import sqlite3\n",
    "\n",
    "#Establish a connection to the database\n",
    "conn = sqlite3.connect('database.db')\n",
    "\n",
    "#Query data from the database\n",
    "query = \"SELECT * FROM table_name\"\n",
    "data = pd.read_sql(query, conn)\n",
    "\n",
    "#Close the connection\n",
    "conn.close()"
   ]
  },
  {
   "cell_type": "markdown",
   "id": "c0df3e7a",
   "metadata": {},
   "source": [
    "# Data structures : series & data frame"
   ]
  },
  {
   "cell_type": "markdown",
   "id": "178b8e73",
   "metadata": {},
   "source": [
    "## Creating a Series from a list\n",
    "data = [10, 20, 30, 40, 50]\n",
    "\n",
    "series = pd.Series(data)\n",
    "\n",
    "print(series)\n"
   ]
  },
  {
   "cell_type": "markdown",
   "id": "b7a0ee25",
   "metadata": {},
   "source": [
    "## DataFrame "
   ]
  },
  {
   "cell_type": "markdown",
   "id": "26cd9f93",
   "metadata": {},
   "source": [
    "### Dictionary"
   ]
  },
  {
   "cell_type": "code",
   "execution_count": 3,
   "id": "dd7efc8b",
   "metadata": {},
   "outputs": [
    {
     "name": "stdout",
     "output_type": "stream",
     "text": [
      "      Name  Age\n",
      "0    Alice   25\n",
      "1      Bob   30\n",
      "2  Charlie   35\n"
     ]
    }
   ],
   "source": [
    "### From a Dictionary:\n",
    "\n",
    "data = {'Name': ['Alice', 'Bob', 'Charlie'],\n",
    "        'Age': [25, 30, 35]}\n",
    "        \n",
    "   \n",
    "df = pd.DataFrame(data)\n",
    "\n",
    "print(df)"
   ]
  },
  {
   "cell_type": "markdown",
   "id": "09a054dd",
   "metadata": {},
   "source": [
    "###  List of Lists"
   ]
  },
  {
   "cell_type": "code",
   "execution_count": 4,
   "id": "74beea08",
   "metadata": {},
   "outputs": [
    {
     "name": "stdout",
     "output_type": "stream",
     "text": [
      "      Name  Age\n",
      "0    Alice   25\n",
      "1      Bob   30\n",
      "2  Charlie   35\n"
     ]
    }
   ],
   "source": [
    "### From a List of Lists:\n",
    "\n",
    "\n",
    "data = [['Alice', 25], ['Bob', 30], ['Charlie', 35]]\n",
    "\n",
    "df = pd.DataFrame(data, columns=['Name', 'Age'])\n",
    "\n",
    "print(df)"
   ]
  },
  {
   "cell_type": "markdown",
   "id": "00c7c017",
   "metadata": {},
   "source": [
    "### From External Data (CSV, Excel, etc.):\n",
    "#Creating a DataFrame from a CSV file\n",
    "df = pd.read_csv('data.csv')\n",
    "\n",
    "#Creating a DataFrame from an Excel file\n",
    "df = pd.read_excel('data.xlsx', sheet_name='Sheet1')\n"
   ]
  },
  {
   "cell_type": "code",
   "execution_count": null,
   "id": "067e13b9",
   "metadata": {},
   "outputs": [],
   "source": []
  }
 ],
 "metadata": {
  "kernelspec": {
   "display_name": "Python 3 (ipykernel)",
   "language": "python",
   "name": "python3"
  },
  "language_info": {
   "codemirror_mode": {
    "name": "ipython",
    "version": 3
   },
   "file_extension": ".py",
   "mimetype": "text/x-python",
   "name": "python",
   "nbconvert_exporter": "python",
   "pygments_lexer": "ipython3",
   "version": "3.11.3"
  }
 },
 "nbformat": 4,
 "nbformat_minor": 5
}
